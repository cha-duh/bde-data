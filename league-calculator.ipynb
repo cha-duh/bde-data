{
 "cells": [
  {
   "cell_type": "markdown",
   "id": "6de02e85",
   "metadata": {},
   "source": [
    "### imports"
   ]
  },
  {
   "cell_type": "code",
   "execution_count": 1,
   "id": "5c9da5a4",
   "metadata": {},
   "outputs": [],
   "source": [
    "import pandas as pd\n",
    "import random\n",
    "import glob\n",
    "import os\n",
    "\n",
    "from statistics import mean\n",
    "import ipywidgets as widgets"
   ]
  },
  {
   "cell_type": "markdown",
   "id": "aa388e89",
   "metadata": {},
   "source": [
    "### constants"
   ]
  },
  {
   "cell_type": "code",
   "execution_count": 2,
   "id": "ad712efc",
   "metadata": {},
   "outputs": [],
   "source": [
    "SCALING_FACTOR = 0.1"
   ]
  },
  {
   "cell_type": "code",
   "execution_count": 3,
   "id": "75f53378",
   "metadata": {},
   "outputs": [],
   "source": [
    "path = os.getcwd()\n",
    "csv_files = sorted(glob.glob(os.path.join(path, \"scores/2023/*.csv\")))"
   ]
  },
  {
   "cell_type": "code",
   "execution_count": 4,
   "id": "bc30892f",
   "metadata": {},
   "outputs": [],
   "source": [
    "# set up sse for each course and layout\n",
    "# should we pull more data from dgcr? maybe course length per layout, etc?\n",
    "# would allow us to get course names and such... that's probably better...\n",
    "\n",
    "SSE = {\n",
    "    'shmo_s': 47.7,\n",
    "    'shmo_l': 54.4,\n",
    "    'romo_s': 45.0, # total guess\n",
    "    'romo_l': 50.4,\n",
    "    'spva_s': 56.6,\n",
    "    'spva_l': 64.0,\n",
    "    'mbog_s': 44.8,\n",
    "    'mbog_l': 53.4,\n",
    "    'mbno_s': 45.3,\n",
    "    'mbno_l': 53.9,\n",
    "    'knol_s': 42.9,\n",
    "    'knol_l': 42.9,\n",
    "    'r_arro': 27.5,\n",
    "    'r_arr2': 55.0,\n",
    "    'vira_s': 48.1,\n",
    "    'vira_l': 54.9,\n",
    "    'coldbk': 67.0,\n",
    "    'begg_p': 50.0,\n",
    "    'brew_s': 43.9,\n",
    "    'brew_l': 55.0,\n",
    "    'johnsn': 43.1,\n",
    "    'garfld': 46.1\n",
    "}"
   ]
  },
  {
   "cell_type": "code",
   "execution_count": 5,
   "id": "8ea71494",
   "metadata": {},
   "outputs": [],
   "source": [
    "PLAYERS = [\n",
    "    'Chase',\n",
    "    'Isaac Richmond',\n",
    "    'Joe Bos',\n",
    "    'Joshua Owens',\n",
    "    'Kat Owens',\n",
    "    'Kevin Richmond',\n",
    "    'Kyle P-H',\n",
    "    'Noah Mashni',\n",
    "    'the_field'\n",
    "]"
   ]
  },
  {
   "cell_type": "markdown",
   "id": "5b413964",
   "metadata": {},
   "source": [
    "### helper functions"
   ]
  },
  {
   "cell_type": "code",
   "execution_count": 6,
   "id": "9dcdf278",
   "metadata": {},
   "outputs": [],
   "source": [
    "def calculate_rating(score, sse):\n",
    "    if sse > 50.328725:\n",
    "        scoring_interval = -0.225067 * sse + 21.3858\n",
    "    else:\n",
    "        scoring_interval = -0.487095 * sse + 34.5734\n",
    "    return 1000 - (score-sse)*scoring_interval"
   ]
  },
  {
   "cell_type": "code",
   "execution_count": 7,
   "id": "17128ae0",
   "metadata": {},
   "outputs": [],
   "source": [
    "def calculate_target_stroke_count(rating, sse):\n",
    "    return (1000/rating * sse).round(2)"
   ]
  },
  {
   "cell_type": "code",
   "execution_count": 17,
   "id": "8a651c12",
   "metadata": {},
   "outputs": [
    {
     "data": {
      "text/plain": [
       "967.08824128"
      ]
     },
     "execution_count": 17,
     "metadata": {},
     "output_type": "execute_result"
    }
   ],
   "source": [
    "# calculate_rating(58, SSE['shmo_l'])"
   ]
  },
  {
   "cell_type": "code",
   "execution_count": 9,
   "id": "6a8aef07",
   "metadata": {},
   "outputs": [
    {
     "data": {
      "text/plain": [
       "{'chase': 780.36600188,\n",
       " 'isaac': 832.24804868,\n",
       " 'joe': 979.055464,\n",
       " 'joshua': 972.073952,\n",
       " 'kat': 884.13009548,\n",
       " 'kevin': 927.36513448,\n",
       " 'noah': 895.27732}"
      ]
     },
     "execution_count": 9,
     "metadata": {},
     "output_type": "execute_result"
    }
   ],
   "source": [
    "# {\n",
    "#     'chase': calculate_rating(82, SSE['spva_s']),\n",
    "#     'isaac': calculate_rating(76, SSE['spva_s']),\n",
    "#     'joe': calculate_rating(67, SSE['spva_l']),\n",
    "#     'joshua': calculate_rating(68, SSE['spva_l']),\n",
    "#     'kat': calculate_rating(70, SSE['spva_s']),\n",
    "#     'kevin': calculate_rating(65, SSE['spva_s']),\n",
    "#     'noah': calculate_rating(79, SSE['spva_l'])\n",
    "# }"
   ]
  },
  {
   "cell_type": "code",
   "execution_count": 10,
   "id": "5dedfda0",
   "metadata": {},
   "outputs": [
    {
     "data": {
      "text/plain": [
       "{'joe': 980.56515373,\n",
       " 'joshua': 952.80108763,\n",
       " 'kevin': 941.21241645,\n",
       " 'isaac': 828.64044795,\n",
       " 'kyle': 1016.2603954499999,\n",
       " 'kat': 941.21241645,\n",
       " 'noah': 906.52764413,\n",
       " 'chase': 741.08447245}"
      ]
     },
     "execution_count": 10,
     "metadata": {},
     "output_type": "execute_result"
    }
   ],
   "source": [
    "# {\n",
    "#     'joe': calculate_rating(56, SSE['mbno_l']),\n",
    "#     'joshua': calculate_rating(59, SSE['mbno_l']),\n",
    "#     'kevin': calculate_rating(50, SSE['mbno_s']),\n",
    "#     'isaac': calculate_rating(59, SSE['mbno_s']),\n",
    "#     'kyle': calculate_rating(44, SSE['mbno_s']),\n",
    "#     'kat': calculate_rating(50, SSE['mbno_s']),\n",
    "#     'noah': calculate_rating(64, SSE['mbno_l']),\n",
    "#     'chase': calculate_rating(66, SSE['mbno_s'])\n",
    "# }"
   ]
  },
  {
   "cell_type": "markdown",
   "id": "a30ac847",
   "metadata": {},
   "source": [
    "### concatenate all files into a dataframe"
   ]
  },
  {
   "cell_type": "markdown",
   "id": "765be6c3",
   "metadata": {},
   "source": [
    "### build base dataframe for 2022"
   ]
  },
  {
   "cell_type": "code",
   "execution_count": 15,
   "id": "3ab36f32",
   "metadata": {},
   "outputs": [],
   "source": [
    "# df = pd.read_csv('scores/2022/zoo_2022-04-21.csv')"
   ]
  },
  {
   "cell_type": "markdown",
   "id": "e17efca6",
   "metadata": {},
   "source": [
    "### add each round for 2023"
   ]
  },
  {
   "cell_type": "code",
   "execution_count": 16,
   "id": "26f39d5f",
   "metadata": {},
   "outputs": [
    {
     "ename": "AttributeError",
     "evalue": "'DataFrame' object has no attribute 'append'",
     "output_type": "error",
     "traceback": [
      "\u001b[0;31m---------------------------------------------------------------------------\u001b[0m",
      "\u001b[0;31mAttributeError\u001b[0m                            Traceback (most recent call last)",
      "\u001b[0;32m/tmp/ipykernel_10853/3218750475.py\u001b[0m in \u001b[0;36m?\u001b[0;34m()\u001b[0m\n\u001b[1;32m      6\u001b[0m \u001b[0;31m#     if 'hole_24' in newdf.columns:\u001b[0m\u001b[0;34m\u001b[0m\u001b[0;34m\u001b[0m\u001b[0m\n\u001b[1;32m      7\u001b[0m \u001b[0;31m#         newdf['course'] =\u001b[0m\u001b[0;34m\u001b[0m\u001b[0;34m\u001b[0m\u001b[0m\n\u001b[1;32m      8\u001b[0m \u001b[0;31m#     else:\u001b[0m\u001b[0;34m\u001b[0m\u001b[0;34m\u001b[0m\u001b[0m\n\u001b[1;32m      9\u001b[0m \u001b[0;31m#         newdf['course'] = random.choice(['shmo_s','mbog_s','romo_s'])\u001b[0m\u001b[0;34m\u001b[0m\u001b[0;34m\u001b[0m\u001b[0m\n\u001b[0;32m---> 10\u001b[0;31m     \u001b[0mdf\u001b[0m \u001b[0;34m=\u001b[0m \u001b[0mdf\u001b[0m\u001b[0;34m.\u001b[0m\u001b[0mappend\u001b[0m\u001b[0;34m(\u001b[0m\u001b[0mnewdf\u001b[0m\u001b[0;34m)\u001b[0m\u001b[0;34m\u001b[0m\u001b[0;34m\u001b[0m\u001b[0m\n\u001b[0m\u001b[1;32m     11\u001b[0m \u001b[0mdf\u001b[0m \u001b[0;34m=\u001b[0m \u001b[0mdf\u001b[0m\u001b[0;34m.\u001b[0m\u001b[0msort_values\u001b[0m\u001b[0;34m(\u001b[0m\u001b[0;34m'date'\u001b[0m\u001b[0;34m)\u001b[0m\u001b[0;34m\u001b[0m\u001b[0;34m\u001b[0m\u001b[0m\n\u001b[1;32m     12\u001b[0m \u001b[0;31m# df['course'] = df['date'].map(courses2022)\u001b[0m\u001b[0;34m\u001b[0m\u001b[0;34m\u001b[0m\u001b[0m\n",
      "\u001b[0;32m~/.local/lib/python3.10/site-packages/pandas/core/generic.py\u001b[0m in \u001b[0;36m?\u001b[0;34m(self, name)\u001b[0m\n\u001b[1;32m   5985\u001b[0m             \u001b[0;32mand\u001b[0m \u001b[0mname\u001b[0m \u001b[0;32mnot\u001b[0m \u001b[0;32min\u001b[0m \u001b[0mself\u001b[0m\u001b[0;34m.\u001b[0m\u001b[0m_accessors\u001b[0m\u001b[0;34m\u001b[0m\u001b[0;34m\u001b[0m\u001b[0m\n\u001b[1;32m   5986\u001b[0m             \u001b[0;32mand\u001b[0m \u001b[0mself\u001b[0m\u001b[0;34m.\u001b[0m\u001b[0m_info_axis\u001b[0m\u001b[0;34m.\u001b[0m\u001b[0m_can_hold_identifiers_and_holds_name\u001b[0m\u001b[0;34m(\u001b[0m\u001b[0mname\u001b[0m\u001b[0;34m)\u001b[0m\u001b[0;34m\u001b[0m\u001b[0;34m\u001b[0m\u001b[0m\n\u001b[1;32m   5987\u001b[0m         ):\n\u001b[1;32m   5988\u001b[0m             \u001b[0;32mreturn\u001b[0m \u001b[0mself\u001b[0m\u001b[0;34m[\u001b[0m\u001b[0mname\u001b[0m\u001b[0;34m]\u001b[0m\u001b[0;34m\u001b[0m\u001b[0;34m\u001b[0m\u001b[0m\n\u001b[0;32m-> 5989\u001b[0;31m         \u001b[0;32mreturn\u001b[0m \u001b[0mobject\u001b[0m\u001b[0;34m.\u001b[0m\u001b[0m__getattribute__\u001b[0m\u001b[0;34m(\u001b[0m\u001b[0mself\u001b[0m\u001b[0;34m,\u001b[0m \u001b[0mname\u001b[0m\u001b[0;34m)\u001b[0m\u001b[0;34m\u001b[0m\u001b[0;34m\u001b[0m\u001b[0m\n\u001b[0m",
      "\u001b[0;31mAttributeError\u001b[0m: 'DataFrame' object has no attribute 'append'"
     ]
    }
   ],
   "source": [
    "df = pd.DataFrame()\n",
    "for filename in csv_files:\n",
    "    date = filename.split('zoo_')[1].split('.csv')[0]\n",
    "    newdf = pd.read_csv(filename)\n",
    "    newdf['date'] = date\n",
    "#     if 'hole_24' in newdf.columns:\n",
    "#         newdf['course'] = \n",
    "#     else:\n",
    "#         newdf['course'] = random.choice(['shmo_s','mbog_s','romo_s'])\n",
    "    df = df.concat(newdf)\n",
    "df = df.sort_values('date')\n",
    "# df['course'] = df['date'].map(courses2022)"
   ]
  },
  {
   "cell_type": "markdown",
   "id": "54e7df32",
   "metadata": {},
   "source": [
    "### per-hole stats"
   ]
  },
  {
   "cell_type": "code",
   "execution_count": null,
   "id": "a6330583",
   "metadata": {},
   "outputs": [],
   "source": [
    "hole_stats = df.groupby(['course','name']).mean()\n",
    "hole_stats"
   ]
  },
  {
   "cell_type": "markdown",
   "id": "87d904e0",
   "metadata": {},
   "source": [
    "### pivot round scores to simple total scores"
   ]
  },
  {
   "cell_type": "markdown",
   "id": "1f8cc020",
   "metadata": {},
   "source": [
    "filling NA with course-wise average per player"
   ]
  },
  {
   "cell_type": "code",
   "execution_count": null,
   "id": "a8ac7467",
   "metadata": {
    "scrolled": true
   },
   "outputs": [],
   "source": [
    "round_scores = df[['course','name','total_score','date']].set_index('date','course')\n",
    "round_scores = round_scores.pivot_table(\n",
    "    values='total_score',\n",
    "    index=['date','course'],\n",
    "    columns='name',\n",
    "    aggfunc='first'\n",
    ")\n",
    "attendance = round_scores.count() # only used in final scoring, needed prior to 'fillna'.\n",
    "\n",
    "round_scores['the_field'] = round_scores.mean(axis=1)\n",
    "round_scores = round_scores.fillna(round_scores.groupby('course').transform('mean')).fillna(round_scores.mean()).round(2)\n",
    "round_scores"
   ]
  },
  {
   "cell_type": "markdown",
   "id": "91b286ab",
   "metadata": {},
   "source": [
    "### ratings"
   ]
  },
  {
   "cell_type": "markdown",
   "id": "4a7fcb56",
   "metadata": {},
   "source": [
    "generate round ratings per player based on SSE"
   ]
  },
  {
   "cell_type": "code",
   "execution_count": null,
   "id": "29d85f89",
   "metadata": {
    "scrolled": true
   },
   "outputs": [],
   "source": [
    "ratings = round_scores.reset_index().set_index('date')\n",
    "ratings['sse'] = ratings['course'].map(SSE)\n",
    "for player in PLAYERS:\n",
    "    ratings[player] = ratings.apply(lambda x: calculate_rating(x[player],x['sse']),axis=1)\n",
    "\n",
    "ratings"
   ]
  },
  {
   "cell_type": "markdown",
   "id": "927129e6",
   "metadata": {},
   "source": [
    "### rating average"
   ]
  },
  {
   "cell_type": "markdown",
   "id": "8292cc91",
   "metadata": {},
   "source": [
    "calculate a rolling average of players' rating as calculated above"
   ]
  },
  {
   "cell_type": "code",
   "execution_count": null,
   "id": "56575dd5",
   "metadata": {},
   "outputs": [],
   "source": [
    "ratings_ave = ratings.drop(columns=['sse']).rolling(6, axis=0, min_periods=5).apply(lambda x: mean(sorted(x)[1:4]))\n",
    "ratings_ave"
   ]
  },
  {
   "cell_type": "markdown",
   "id": "7038a88d",
   "metadata": {},
   "source": [
    "#### ratings against field"
   ]
  },
  {
   "cell_type": "markdown",
   "id": "4bb4d9ac",
   "metadata": {},
   "source": [
    "unclear if this will be valuable, but easy to calc"
   ]
  },
  {
   "cell_type": "code",
   "execution_count": null,
   "id": "e901692e",
   "metadata": {},
   "outputs": [],
   "source": [
    "# ratings_field = ratings_ave.apply(lambda x:x - ratings_ave['the_field'])\n",
    "# ratings_field"
   ]
  },
  {
   "cell_type": "markdown",
   "id": "284b9cb7",
   "metadata": {},
   "source": [
    "### expected strokes"
   ]
  },
  {
   "cell_type": "markdown",
   "id": "9d179da5",
   "metadata": {},
   "source": [
    "based on current rating as calculated above, this is the number of strokes anticipated for each player at each round. factors into handicap and therefor ranking points."
   ]
  },
  {
   "cell_type": "code",
   "execution_count": null,
   "id": "123c291d",
   "metadata": {},
   "outputs": [],
   "source": [
    "expected_strokes = ratings_ave.copy()\n",
    "expected_strokes['course'] = ratings['course']\n",
    "expected_strokes['sse'] = ratings['sse']\n",
    "for player in PLAYERS:\n",
    "    expected_strokes[player] = expected_strokes.apply(lambda x:(1000/x[player] * x['sse']), axis=1)\n",
    "expected_strokes"
   ]
  },
  {
   "cell_type": "markdown",
   "id": "dc06521e",
   "metadata": {},
   "source": [
    "### ranking points"
   ]
  },
  {
   "cell_type": "markdown",
   "id": "c4a474de",
   "metadata": {},
   "source": [
    "this is determined by adjusting scores by individual handicap and ranking those adjusted scores. the number of those bested is the number of points granted."
   ]
  },
  {
   "cell_type": "code",
   "execution_count": null,
   "id": "096ac6d4",
   "metadata": {},
   "outputs": [],
   "source": [
    "handicap = expected_strokes.drop(columns=['course']).apply(lambda x: x-x['sse'], axis=1)\n",
    "adjusted = round_scores - handicap.drop(columns=['sse'])*SCALING_FACTOR # this inflated scores heavily\n",
    "ranked = adjusted.rank(axis=1,ascending=False)\n",
    "\n",
    "# ranked.sum()\n",
    "handicap"
   ]
  },
  {
   "cell_type": "markdown",
   "id": "9f2e61f6",
   "metadata": {},
   "source": [
    "### improvement points"
   ]
  },
  {
   "cell_type": "markdown",
   "id": "6050bd74",
   "metadata": {},
   "source": [
    "this is determined by the round score being less than the expected stroke count. in those cases, we find the difference, and where it's greater than zero, we sum the improvement\n",
    "\n",
    "also testing with strict ratings comparison for improvement"
   ]
  },
  {
   "cell_type": "code",
   "execution_count": null,
   "id": "d9646c2c",
   "metadata": {},
   "outputs": [],
   "source": [
    "# improvement = expected_strokes[PLAYERS] - round_scores[PLAYERS]\n",
    "improvement = ((ratings_ave[PLAYERS] - ratings[PLAYERS])/2).round(2)\n",
    "improvement.where(improvement > 0).fillna(0).sum()"
   ]
  },
  {
   "cell_type": "code",
   "execution_count": null,
   "id": "47461580",
   "metadata": {},
   "outputs": [],
   "source": [
    "ranked[PLAYERS].sum()"
   ]
  },
  {
   "cell_type": "markdown",
   "id": "e3cdecc0",
   "metadata": {},
   "source": [
    "## total points minus LP/CTP"
   ]
  },
  {
   "cell_type": "code",
   "execution_count": null,
   "id": "7a6db24d",
   "metadata": {},
   "outputs": [],
   "source": [
    "ranked[PLAYERS].sum() + improvement[PLAYERS].where(improvement > 0).fillna(0).sum() + attendance"
   ]
  },
  {
   "cell_type": "markdown",
   "id": "709c2574",
   "metadata": {},
   "source": [
    "### points per week"
   ]
  },
  {
   "cell_type": "code",
   "execution_count": null,
   "id": "7c482e9f",
   "metadata": {},
   "outputs": [],
   "source": [
    "ranked + improvement.where(improvement > 0).fillna(0) + attendance # + lp/ctp"
   ]
  },
  {
   "cell_type": "code",
   "execution_count": null,
   "id": "615a0f88",
   "metadata": {},
   "outputs": [],
   "source": []
  }
 ],
 "metadata": {
  "kernelspec": {
   "display_name": "Python 3 (ipykernel)",
   "language": "python",
   "name": "python3"
  },
  "language_info": {
   "codemirror_mode": {
    "name": "ipython",
    "version": 3
   },
   "file_extension": ".py",
   "mimetype": "text/x-python",
   "name": "python",
   "nbconvert_exporter": "python",
   "pygments_lexer": "ipython3",
   "version": "3.10.12"
  }
 },
 "nbformat": 4,
 "nbformat_minor": 5
}
